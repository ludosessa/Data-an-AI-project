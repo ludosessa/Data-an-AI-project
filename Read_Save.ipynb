{
 "cells": [
  {
   "cell_type": "code",
   "execution_count": null,
   "metadata": {},
   "outputs": [],
   "source": [
    "# The German Traffic Sign Recognition Benchmark\n",
    "#\n",
    "# sample code for reading the traffic sign images and the\n",
    "# corresponding labels\n",
    "#\n",
    "# example:\n",
    "#            \n",
    "# trainImages, trainLabels = readTrafficSigns('GTSRB/Training')\n",
    "# print len(trainLabels), len(trainImages)\n",
    "# plt.imshow(trainImages[42])\n",
    "# plt.show()\n",
    "#\n",
    "# have fun, Christian\n",
    "import matplotlib\n",
    "matplotlib.use('agg')\n",
    "import matplotlib.pyplot as plt\n",
    "import csv\n",
    "import shutil\n",
    "import scipy.misc \n",
    "\n",
    "# function for reading the images\n",
    "# arguments: path to the traffic sign data, for example './GTSRB/Training'\n",
    "# returns: list of images, list of corresponding labels \n",
    "def readTrafficSigns_save(rootpathRead, rootpathSave):\n",
    "    '''Reads traffic sign data for German Traffic Sign Recognition Benchmark.\n",
    "\n",
    "    Arguments: path to the traffic sign data, for example './GTSRB/Training'\n",
    "    Returns:   list of images, list of corresponding labels'''\n",
    "    images =[]\n",
    "    labels=[]\n",
    "    # loop over all 42 classes\n",
    "    for c in range(0,43):\n",
    "        prefixRead = rootpathRead + '/' + format(c, '05d') + '/' # subdirectory for class\n",
    "        prefixSave = rootpathSave + '/' + format(c, '05d') + '/'\n",
    "        gtFile = open(prefixRead + 'GT-'+ format(c, '05d') + '.csv') # annotations file\n",
    "        gtReader = csv.reader(gtFile, delimiter=';') # csv parser for annotations file\n",
    "        #gtReader.next() # skip header\n",
    "        next(gtReader)\n",
    "        # loop over all images in current annotations file\n",
    "        for row in gtReader:\n",
    "            name = row[0]\n",
    "            images = plt.imread(prefixRead + name) # the 1th column is the filename\n",
    "            images = scipy.misc.imresize(image, (47, 47, 3))\n",
    "            plt.imsave(prefixSave + name, image)\n",
    "            labels.append(row[7])\n",
    "        gtFile.close()\n",
    "        shutil.copyfile(prefixRead + 'GT-'+ format(c, '05d') + '.csv',prefixSave + 'GT-'+ format(c, '05d') + '.csv')\n",
    "    return\n"
   ]
  },
  {
   "cell_type": "code",
   "execution_count": null,
   "metadata": {},
   "outputs": [],
   "source": [
    "trafficSigns_train = './data/train/Final_Training/Images'\n",
    "trafficSigns_resized = './data/train/Final_Training/Resized'\n",
    "readTrafficSigns_save(trafficSigns_train,trafficSigns_resized)"
   ]
  }
 ],
 "metadata": {
  "kernelspec": {
   "display_name": "Python 3",
   "language": "python",
   "name": "python3"
  },
  "language_info": {
   "codemirror_mode": {
    "name": "ipython",
    "version": 3
   },
   "file_extension": ".py",
   "mimetype": "text/x-python",
   "name": "python",
   "nbconvert_exporter": "python",
   "pygments_lexer": "ipython3",
   "version": "3.6.4"
  }
 },
 "nbformat": 4,
 "nbformat_minor": 2
}
