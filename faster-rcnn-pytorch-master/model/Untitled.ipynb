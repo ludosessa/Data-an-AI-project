{
 "cells": [
  {
   "cell_type": "code",
   "execution_count": 9,
   "metadata": {},
   "outputs": [
    {
     "name": "stdout",
     "output_type": "stream",
     "text": [
      "torch.Size([3, 800, 1360])\n"
     ]
    }
   ],
   "source": [
    "import torch\n",
    "import torch.nn as nn\n",
    "from torch.autograd import Variable\n",
    "m = nn.AvgPool2d(3, stride=2)\n",
    "input = Variable(torch.randn(3, 800, 1360))\n",
    "print(input.shape)\n",
    "output = m(input)"
   ]
  },
  {
   "cell_type": "code",
   "execution_count": 10,
   "metadata": {},
   "outputs": [
    {
     "name": "stdout",
     "output_type": "stream",
     "text": [
      "Variable containing:\n",
      "( 0 ,.,.) = \n",
      " -1.0938e-01 -1.5483e-01  5.6614e-01  ...   2.5019e-01  2.6131e-01  6.3126e-02\n",
      "  2.5476e-01 -2.8549e-01  3.4101e-02  ...  -5.0911e-01 -6.2012e-01 -2.6023e-01\n",
      "  9.2187e-02 -3.5277e-01  2.5545e-01  ...  -2.3709e-02 -2.5990e-01 -6.6193e-02\n",
      "                 ...                   ⋱                   ...                \n",
      "  3.5419e-01  2.2485e-01 -1.0558e-01  ...   3.1092e-01  3.6367e-01  7.1504e-02\n",
      "  9.1522e-02  3.1068e-02  1.4571e-01  ...  -3.2393e-01  4.6449e-01 -2.3494e-02\n",
      " -3.2828e-01 -1.8117e-04 -1.6603e-01  ...  -2.3154e-01  3.3956e-02  6.7926e-02\n",
      "\n",
      "( 1 ,.,.) = \n",
      "  2.6895e-02  2.3414e-01 -3.8422e-02  ...   5.9411e-01  3.2493e-01  3.6257e-01\n",
      "  6.2052e-01  5.8128e-01  3.9027e-01  ...   1.4971e-01 -8.5712e-02  6.5928e-02\n",
      " -1.7899e-01  3.4401e-01  1.8884e-02  ...   4.2910e-01 -5.8815e-02  2.7255e-01\n",
      "                 ...                   ⋱                   ...                \n",
      " -3.9091e-01 -4.1771e-01 -3.5705e-01  ...   8.2128e-02  5.9959e-02 -3.0338e-01\n",
      " -3.9848e-02 -4.6449e-01 -8.5406e-01  ...   9.7883e-02  1.1825e-01  1.8668e-01\n",
      " -2.1083e-01 -1.4806e-01 -3.6906e-01  ...   1.1874e-01  1.8236e-02  5.8991e-02\n",
      "\n",
      "( 2 ,.,.) = \n",
      "  1.2758e-01  1.4590e-01  1.8388e-01  ...   4.9228e-01  4.0189e-01 -5.7569e-02\n",
      "  2.0339e-01  8.8476e-01  3.2057e-01  ...  -1.8253e-01 -2.1257e-01  1.3047e-01\n",
      " -6.9473e-01  4.7092e-01  4.3754e-01  ...  -5.1649e-02  3.4525e-02  4.8931e-01\n",
      "                 ...                   ⋱                   ...                \n",
      "  2.3660e-01 -1.4863e-01 -1.4982e-02  ...   1.8403e-01  2.1070e-02 -1.1548e-01\n",
      "  1.2804e-01 -1.2819e-01 -1.4044e-01  ...   1.8830e-01 -7.1049e-03 -5.0905e-02\n",
      "  5.4242e-01  2.0005e-01 -7.6717e-02  ...   2.7842e-01  5.4401e-01  2.3134e-01\n",
      "[torch.FloatTensor of size 3x399x679]\n",
      "\n",
      "torch.Size([3, 399, 679])\n"
     ]
    }
   ],
   "source": [
    "print(output)\n",
    "print(output.shape)"
   ]
  },
  {
   "cell_type": "code",
   "execution_count": null,
   "metadata": {},
   "outputs": [],
   "source": []
  }
 ],
 "metadata": {
  "kernelspec": {
   "display_name": "Python 3",
   "language": "python",
   "name": "python3"
  },
  "language_info": {
   "codemirror_mode": {
    "name": "ipython",
    "version": 3
   },
   "file_extension": ".py",
   "mimetype": "text/x-python",
   "name": "python",
   "nbconvert_exporter": "python",
   "pygments_lexer": "ipython3",
   "version": "3.6.4"
  }
 },
 "nbformat": 4,
 "nbformat_minor": 2
}
